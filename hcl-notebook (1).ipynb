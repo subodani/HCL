{
 "cells": [
  {
   "cell_type": "code",
   "execution_count": 2,
   "id": "f9fc28da",
   "metadata": {
    "execution": {
     "iopub.execute_input": "2022-05-15T19:33:01.835399Z",
     "iopub.status.busy": "2022-05-15T19:33:01.834968Z",
     "iopub.status.idle": "2022-05-15T19:33:03.003411Z",
     "shell.execute_reply": "2022-05-15T19:33:03.002774Z"
    },
    "papermill": {
     "duration": 1.207534,
     "end_time": "2022-05-15T19:33:03.005645",
     "exception": false,
     "start_time": "2022-05-15T19:33:01.798111",
     "status": "completed"
    },
    "tags": []
   },
   "outputs": [],
   "source": [
    "# Import modules\n",
    "import pandas as pd\n",
    "import numpy as np\n",
    " \n",
    "import matplotlib.pyplot as plt\n",
    "import matplotlib.mlab as mlab\n",
    "%matplotlib inline\n",
    "import seaborn as sns\n",
    "#import scikitplot as skplt\n",
    " \n",
    "from sklearn import preprocessing, model_selection, metrics\n",
    "from sklearn.model_selection import train_test_split, StratifiedKFold\n",
    "#from sklearn.tree import DecisionTreeClassifier\n",
    "from sklearn.utils.class_weight import compute_class_weight\n",
    " \n",
    "#from imblearn.over_sampling import SMOTENC"
   ]
  },
  {
   "cell_type": "code",
   "execution_count": 4,
   "id": "0758a336",
   "metadata": {
    "execution": {
     "iopub.execute_input": "2022-05-15T19:33:15.167193Z",
     "iopub.status.busy": "2022-05-15T19:33:15.166565Z",
     "iopub.status.idle": "2022-05-15T19:33:18.902744Z",
     "shell.execute_reply": "2022-05-15T19:33:18.901934Z"
    },
    "papermill": {
     "duration": 3.777515,
     "end_time": "2022-05-15T19:33:18.904973",
     "exception": false,
     "start_time": "2022-05-15T19:33:15.127458",
     "status": "completed"
    },
    "tags": []
   },
   "outputs": [],
   "source": [
    "data=pd.read_excel(\"default of credit card clients.xls\")"
   ]
  },
  {
   "cell_type": "code",
   "execution_count": 5,
   "id": "be6d13e5",
   "metadata": {
    "execution": {
     "iopub.execute_input": "2022-05-15T19:33:18.986674Z",
     "iopub.status.busy": "2022-05-15T19:33:18.986084Z",
     "iopub.status.idle": "2022-05-15T19:33:19.010790Z",
     "shell.execute_reply": "2022-05-15T19:33:19.009923Z"
    },
    "papermill": {
     "duration": 0.066658,
     "end_time": "2022-05-15T19:33:19.012702",
     "exception": false,
     "start_time": "2022-05-15T19:33:18.946044",
     "status": "completed"
    },
    "tags": []
   },
   "outputs": [
    {
     "data": {
      "text/html": [
       "<div>\n",
       "<style scoped>\n",
       "    .dataframe tbody tr th:only-of-type {\n",
       "        vertical-align: middle;\n",
       "    }\n",
       "\n",
       "    .dataframe tbody tr th {\n",
       "        vertical-align: top;\n",
       "    }\n",
       "\n",
       "    .dataframe thead th {\n",
       "        text-align: right;\n",
       "    }\n",
       "</style>\n",
       "<table border=\"1\" class=\"dataframe\">\n",
       "  <thead>\n",
       "    <tr style=\"text-align: right;\">\n",
       "      <th></th>\n",
       "      <th>ID</th>\n",
       "      <th>LIMIT_BAL</th>\n",
       "      <th>SEX</th>\n",
       "      <th>EDUCATION</th>\n",
       "      <th>MARRIAGE</th>\n",
       "      <th>AGE</th>\n",
       "      <th>PAY_0</th>\n",
       "      <th>PAY_2</th>\n",
       "      <th>PAY_3</th>\n",
       "      <th>PAY_4</th>\n",
       "      <th>...</th>\n",
       "      <th>BILL_AMT4</th>\n",
       "      <th>BILL_AMT5</th>\n",
       "      <th>BILL_AMT6</th>\n",
       "      <th>PAY_AMT1</th>\n",
       "      <th>PAY_AMT2</th>\n",
       "      <th>PAY_AMT3</th>\n",
       "      <th>PAY_AMT4</th>\n",
       "      <th>PAY_AMT5</th>\n",
       "      <th>PAY_AMT6</th>\n",
       "      <th>default payment next month</th>\n",
       "    </tr>\n",
       "  </thead>\n",
       "  <tbody>\n",
       "    <tr>\n",
       "      <th>0</th>\n",
       "      <td>1</td>\n",
       "      <td>20000</td>\n",
       "      <td>2</td>\n",
       "      <td>2</td>\n",
       "      <td>1</td>\n",
       "      <td>24</td>\n",
       "      <td>2</td>\n",
       "      <td>2</td>\n",
       "      <td>-1</td>\n",
       "      <td>-1</td>\n",
       "      <td>...</td>\n",
       "      <td>0</td>\n",
       "      <td>0</td>\n",
       "      <td>0</td>\n",
       "      <td>0</td>\n",
       "      <td>689</td>\n",
       "      <td>0</td>\n",
       "      <td>0</td>\n",
       "      <td>0</td>\n",
       "      <td>0</td>\n",
       "      <td>1</td>\n",
       "    </tr>\n",
       "    <tr>\n",
       "      <th>1</th>\n",
       "      <td>2</td>\n",
       "      <td>120000</td>\n",
       "      <td>2</td>\n",
       "      <td>2</td>\n",
       "      <td>2</td>\n",
       "      <td>26</td>\n",
       "      <td>-1</td>\n",
       "      <td>2</td>\n",
       "      <td>0</td>\n",
       "      <td>0</td>\n",
       "      <td>...</td>\n",
       "      <td>3272</td>\n",
       "      <td>3455</td>\n",
       "      <td>3261</td>\n",
       "      <td>0</td>\n",
       "      <td>1000</td>\n",
       "      <td>1000</td>\n",
       "      <td>1000</td>\n",
       "      <td>0</td>\n",
       "      <td>2000</td>\n",
       "      <td>1</td>\n",
       "    </tr>\n",
       "    <tr>\n",
       "      <th>2</th>\n",
       "      <td>3</td>\n",
       "      <td>90000</td>\n",
       "      <td>2</td>\n",
       "      <td>2</td>\n",
       "      <td>2</td>\n",
       "      <td>34</td>\n",
       "      <td>0</td>\n",
       "      <td>0</td>\n",
       "      <td>0</td>\n",
       "      <td>0</td>\n",
       "      <td>...</td>\n",
       "      <td>14331</td>\n",
       "      <td>14948</td>\n",
       "      <td>15549</td>\n",
       "      <td>1518</td>\n",
       "      <td>1500</td>\n",
       "      <td>1000</td>\n",
       "      <td>1000</td>\n",
       "      <td>1000</td>\n",
       "      <td>5000</td>\n",
       "      <td>0</td>\n",
       "    </tr>\n",
       "    <tr>\n",
       "      <th>3</th>\n",
       "      <td>4</td>\n",
       "      <td>50000</td>\n",
       "      <td>2</td>\n",
       "      <td>2</td>\n",
       "      <td>1</td>\n",
       "      <td>37</td>\n",
       "      <td>0</td>\n",
       "      <td>0</td>\n",
       "      <td>0</td>\n",
       "      <td>0</td>\n",
       "      <td>...</td>\n",
       "      <td>28314</td>\n",
       "      <td>28959</td>\n",
       "      <td>29547</td>\n",
       "      <td>2000</td>\n",
       "      <td>2019</td>\n",
       "      <td>1200</td>\n",
       "      <td>1100</td>\n",
       "      <td>1069</td>\n",
       "      <td>1000</td>\n",
       "      <td>0</td>\n",
       "    </tr>\n",
       "    <tr>\n",
       "      <th>4</th>\n",
       "      <td>5</td>\n",
       "      <td>50000</td>\n",
       "      <td>1</td>\n",
       "      <td>2</td>\n",
       "      <td>1</td>\n",
       "      <td>57</td>\n",
       "      <td>-1</td>\n",
       "      <td>0</td>\n",
       "      <td>-1</td>\n",
       "      <td>0</td>\n",
       "      <td>...</td>\n",
       "      <td>20940</td>\n",
       "      <td>19146</td>\n",
       "      <td>19131</td>\n",
       "      <td>2000</td>\n",
       "      <td>36681</td>\n",
       "      <td>10000</td>\n",
       "      <td>9000</td>\n",
       "      <td>689</td>\n",
       "      <td>679</td>\n",
       "      <td>0</td>\n",
       "    </tr>\n",
       "  </tbody>\n",
       "</table>\n",
       "<p>5 rows × 25 columns</p>\n",
       "</div>"
      ],
      "text/plain": [
       "   ID  LIMIT_BAL  SEX  EDUCATION  MARRIAGE  AGE  PAY_0  PAY_2  PAY_3  PAY_4  \\\n",
       "0   1      20000    2          2         1   24      2      2     -1     -1   \n",
       "1   2     120000    2          2         2   26     -1      2      0      0   \n",
       "2   3      90000    2          2         2   34      0      0      0      0   \n",
       "3   4      50000    2          2         1   37      0      0      0      0   \n",
       "4   5      50000    1          2         1   57     -1      0     -1      0   \n",
       "\n",
       "   ...  BILL_AMT4  BILL_AMT5  BILL_AMT6  PAY_AMT1  PAY_AMT2  PAY_AMT3  \\\n",
       "0  ...          0          0          0         0       689         0   \n",
       "1  ...       3272       3455       3261         0      1000      1000   \n",
       "2  ...      14331      14948      15549      1518      1500      1000   \n",
       "3  ...      28314      28959      29547      2000      2019      1200   \n",
       "4  ...      20940      19146      19131      2000     36681     10000   \n",
       "\n",
       "   PAY_AMT4  PAY_AMT5  PAY_AMT6  default payment next month  \n",
       "0         0         0         0                           1  \n",
       "1      1000         0      2000                           1  \n",
       "2      1000      1000      5000                           0  \n",
       "3      1100      1069      1000                           0  \n",
       "4      9000       689       679                           0  \n",
       "\n",
       "[5 rows x 25 columns]"
      ]
     },
     "execution_count": 5,
     "metadata": {},
     "output_type": "execute_result"
    }
   ],
   "source": [
    "data.head()"
   ]
  },
  {
   "cell_type": "code",
   "execution_count": 6,
   "id": "812edf01",
   "metadata": {
    "execution": {
     "iopub.execute_input": "2022-05-15T19:33:19.091153Z",
     "iopub.status.busy": "2022-05-15T19:33:19.090268Z",
     "iopub.status.idle": "2022-05-15T19:33:19.095651Z",
     "shell.execute_reply": "2022-05-15T19:33:19.095065Z"
    },
    "papermill": {
     "duration": 0.046204,
     "end_time": "2022-05-15T19:33:19.097487",
     "exception": false,
     "start_time": "2022-05-15T19:33:19.051283",
     "status": "completed"
    },
    "tags": []
   },
   "outputs": [
    {
     "data": {
      "text/plain": [
       "(30000, 25)"
      ]
     },
     "execution_count": 6,
     "metadata": {},
     "output_type": "execute_result"
    }
   ],
   "source": [
    "data.shape"
   ]
  },
  {
   "cell_type": "code",
   "execution_count": 7,
   "id": "be772905",
   "metadata": {
    "execution": {
     "iopub.execute_input": "2022-05-15T19:33:19.176857Z",
     "iopub.status.busy": "2022-05-15T19:33:19.176563Z",
     "iopub.status.idle": "2022-05-15T19:33:19.202243Z",
     "shell.execute_reply": "2022-05-15T19:33:19.200804Z"
    },
    "papermill": {
     "duration": 0.067445,
     "end_time": "2022-05-15T19:33:19.204257",
     "exception": false,
     "start_time": "2022-05-15T19:33:19.136812",
     "status": "completed"
    },
    "tags": []
   },
   "outputs": [
    {
     "name": "stdout",
     "output_type": "stream",
     "text": [
      "<class 'pandas.core.frame.DataFrame'>\n",
      "RangeIndex: 30000 entries, 0 to 29999\n",
      "Data columns (total 25 columns):\n",
      " #   Column                      Non-Null Count  Dtype\n",
      "---  ------                      --------------  -----\n",
      " 0   ID                          30000 non-null  int64\n",
      " 1   LIMIT_BAL                   30000 non-null  int64\n",
      " 2   SEX                         30000 non-null  int64\n",
      " 3   EDUCATION                   30000 non-null  int64\n",
      " 4   MARRIAGE                    30000 non-null  int64\n",
      " 5   AGE                         30000 non-null  int64\n",
      " 6   PAY_0                       30000 non-null  int64\n",
      " 7   PAY_2                       30000 non-null  int64\n",
      " 8   PAY_3                       30000 non-null  int64\n",
      " 9   PAY_4                       30000 non-null  int64\n",
      " 10  PAY_5                       30000 non-null  int64\n",
      " 11  PAY_6                       30000 non-null  int64\n",
      " 12  BILL_AMT1                   30000 non-null  int64\n",
      " 13  BILL_AMT2                   30000 non-null  int64\n",
      " 14  BILL_AMT3                   30000 non-null  int64\n",
      " 15  BILL_AMT4                   30000 non-null  int64\n",
      " 16  BILL_AMT5                   30000 non-null  int64\n",
      " 17  BILL_AMT6                   30000 non-null  int64\n",
      " 18  PAY_AMT1                    30000 non-null  int64\n",
      " 19  PAY_AMT2                    30000 non-null  int64\n",
      " 20  PAY_AMT3                    30000 non-null  int64\n",
      " 21  PAY_AMT4                    30000 non-null  int64\n",
      " 22  PAY_AMT5                    30000 non-null  int64\n",
      " 23  PAY_AMT6                    30000 non-null  int64\n",
      " 24  default payment next month  30000 non-null  int64\n",
      "dtypes: int64(25)\n",
      "memory usage: 5.7 MB\n"
     ]
    }
   ],
   "source": [
    "data.info()"
   ]
  },
  {
   "cell_type": "code",
   "execution_count": 8,
   "id": "9915d16d",
   "metadata": {
    "execution": {
     "iopub.execute_input": "2022-05-15T19:33:19.284276Z",
     "iopub.status.busy": "2022-05-15T19:33:19.283436Z",
     "iopub.status.idle": "2022-05-15T19:33:19.304655Z",
     "shell.execute_reply": "2022-05-15T19:33:19.303556Z"
    },
    "papermill": {
     "duration": 0.063649,
     "end_time": "2022-05-15T19:33:19.306751",
     "exception": false,
     "start_time": "2022-05-15T19:33:19.243102",
     "status": "completed"
    },
    "tags": []
   },
   "outputs": [
    {
     "name": "stdout",
     "output_type": "stream",
     "text": [
      "Data Shape is : (30000, 24)\n"
     ]
    },
    {
     "data": {
      "text/html": [
       "<div>\n",
       "<style scoped>\n",
       "    .dataframe tbody tr th:only-of-type {\n",
       "        vertical-align: middle;\n",
       "    }\n",
       "\n",
       "    .dataframe tbody tr th {\n",
       "        vertical-align: top;\n",
       "    }\n",
       "\n",
       "    .dataframe thead th {\n",
       "        text-align: right;\n",
       "    }\n",
       "</style>\n",
       "<table border=\"1\" class=\"dataframe\">\n",
       "  <thead>\n",
       "    <tr style=\"text-align: right;\">\n",
       "      <th></th>\n",
       "      <th>LIMIT_BAL</th>\n",
       "      <th>SEX</th>\n",
       "      <th>EDUCATION</th>\n",
       "      <th>MARRIAGE</th>\n",
       "      <th>AGE</th>\n",
       "      <th>PAY_0</th>\n",
       "      <th>PAY_2</th>\n",
       "      <th>PAY_3</th>\n",
       "      <th>PAY_4</th>\n",
       "      <th>PAY_5</th>\n",
       "      <th>...</th>\n",
       "      <th>BILL_AMT4</th>\n",
       "      <th>BILL_AMT5</th>\n",
       "      <th>BILL_AMT6</th>\n",
       "      <th>PAY_AMT1</th>\n",
       "      <th>PAY_AMT2</th>\n",
       "      <th>PAY_AMT3</th>\n",
       "      <th>PAY_AMT4</th>\n",
       "      <th>PAY_AMT5</th>\n",
       "      <th>PAY_AMT6</th>\n",
       "      <th>default payment next month</th>\n",
       "    </tr>\n",
       "  </thead>\n",
       "  <tbody>\n",
       "    <tr>\n",
       "      <th>0</th>\n",
       "      <td>20000</td>\n",
       "      <td>2</td>\n",
       "      <td>2</td>\n",
       "      <td>1</td>\n",
       "      <td>24</td>\n",
       "      <td>2</td>\n",
       "      <td>2</td>\n",
       "      <td>-1</td>\n",
       "      <td>-1</td>\n",
       "      <td>-2</td>\n",
       "      <td>...</td>\n",
       "      <td>0</td>\n",
       "      <td>0</td>\n",
       "      <td>0</td>\n",
       "      <td>0</td>\n",
       "      <td>689</td>\n",
       "      <td>0</td>\n",
       "      <td>0</td>\n",
       "      <td>0</td>\n",
       "      <td>0</td>\n",
       "      <td>1</td>\n",
       "    </tr>\n",
       "    <tr>\n",
       "      <th>1</th>\n",
       "      <td>120000</td>\n",
       "      <td>2</td>\n",
       "      <td>2</td>\n",
       "      <td>2</td>\n",
       "      <td>26</td>\n",
       "      <td>-1</td>\n",
       "      <td>2</td>\n",
       "      <td>0</td>\n",
       "      <td>0</td>\n",
       "      <td>0</td>\n",
       "      <td>...</td>\n",
       "      <td>3272</td>\n",
       "      <td>3455</td>\n",
       "      <td>3261</td>\n",
       "      <td>0</td>\n",
       "      <td>1000</td>\n",
       "      <td>1000</td>\n",
       "      <td>1000</td>\n",
       "      <td>0</td>\n",
       "      <td>2000</td>\n",
       "      <td>1</td>\n",
       "    </tr>\n",
       "    <tr>\n",
       "      <th>2</th>\n",
       "      <td>90000</td>\n",
       "      <td>2</td>\n",
       "      <td>2</td>\n",
       "      <td>2</td>\n",
       "      <td>34</td>\n",
       "      <td>0</td>\n",
       "      <td>0</td>\n",
       "      <td>0</td>\n",
       "      <td>0</td>\n",
       "      <td>0</td>\n",
       "      <td>...</td>\n",
       "      <td>14331</td>\n",
       "      <td>14948</td>\n",
       "      <td>15549</td>\n",
       "      <td>1518</td>\n",
       "      <td>1500</td>\n",
       "      <td>1000</td>\n",
       "      <td>1000</td>\n",
       "      <td>1000</td>\n",
       "      <td>5000</td>\n",
       "      <td>0</td>\n",
       "    </tr>\n",
       "    <tr>\n",
       "      <th>3</th>\n",
       "      <td>50000</td>\n",
       "      <td>2</td>\n",
       "      <td>2</td>\n",
       "      <td>1</td>\n",
       "      <td>37</td>\n",
       "      <td>0</td>\n",
       "      <td>0</td>\n",
       "      <td>0</td>\n",
       "      <td>0</td>\n",
       "      <td>0</td>\n",
       "      <td>...</td>\n",
       "      <td>28314</td>\n",
       "      <td>28959</td>\n",
       "      <td>29547</td>\n",
       "      <td>2000</td>\n",
       "      <td>2019</td>\n",
       "      <td>1200</td>\n",
       "      <td>1100</td>\n",
       "      <td>1069</td>\n",
       "      <td>1000</td>\n",
       "      <td>0</td>\n",
       "    </tr>\n",
       "    <tr>\n",
       "      <th>4</th>\n",
       "      <td>50000</td>\n",
       "      <td>1</td>\n",
       "      <td>2</td>\n",
       "      <td>1</td>\n",
       "      <td>57</td>\n",
       "      <td>-1</td>\n",
       "      <td>0</td>\n",
       "      <td>-1</td>\n",
       "      <td>0</td>\n",
       "      <td>0</td>\n",
       "      <td>...</td>\n",
       "      <td>20940</td>\n",
       "      <td>19146</td>\n",
       "      <td>19131</td>\n",
       "      <td>2000</td>\n",
       "      <td>36681</td>\n",
       "      <td>10000</td>\n",
       "      <td>9000</td>\n",
       "      <td>689</td>\n",
       "      <td>679</td>\n",
       "      <td>0</td>\n",
       "    </tr>\n",
       "  </tbody>\n",
       "</table>\n",
       "<p>5 rows × 24 columns</p>\n",
       "</div>"
      ],
      "text/plain": [
       "   LIMIT_BAL  SEX  EDUCATION  MARRIAGE  AGE  PAY_0  PAY_2  PAY_3  PAY_4  \\\n",
       "0      20000    2          2         1   24      2      2     -1     -1   \n",
       "1     120000    2          2         2   26     -1      2      0      0   \n",
       "2      90000    2          2         2   34      0      0      0      0   \n",
       "3      50000    2          2         1   37      0      0      0      0   \n",
       "4      50000    1          2         1   57     -1      0     -1      0   \n",
       "\n",
       "   PAY_5  ...  BILL_AMT4  BILL_AMT5  BILL_AMT6  PAY_AMT1  PAY_AMT2  PAY_AMT3  \\\n",
       "0     -2  ...          0          0          0         0       689         0   \n",
       "1      0  ...       3272       3455       3261         0      1000      1000   \n",
       "2      0  ...      14331      14948      15549      1518      1500      1000   \n",
       "3      0  ...      28314      28959      29547      2000      2019      1200   \n",
       "4      0  ...      20940      19146      19131      2000     36681     10000   \n",
       "\n",
       "   PAY_AMT4  PAY_AMT5  PAY_AMT6  default payment next month  \n",
       "0         0         0         0                           1  \n",
       "1      1000         0      2000                           1  \n",
       "2      1000      1000      5000                           0  \n",
       "3      1100      1069      1000                           0  \n",
       "4      9000       689       679                           0  \n",
       "\n",
       "[5 rows x 24 columns]"
      ]
     },
     "execution_count": 8,
     "metadata": {},
     "output_type": "execute_result"
    }
   ],
   "source": [
    "data = data.drop(columns=[\"ID\"], axis=1)\n",
    "print(\"Data Shape is :\", data.shape)\n",
    "data.head()"
   ]
  },
  {
   "cell_type": "code",
   "execution_count": 9,
   "id": "b2058fc8",
   "metadata": {
    "execution": {
     "iopub.execute_input": "2022-05-15T19:33:19.390125Z",
     "iopub.status.busy": "2022-05-15T19:33:19.389299Z",
     "iopub.status.idle": "2022-05-15T19:33:19.397074Z",
     "shell.execute_reply": "2022-05-15T19:33:19.396456Z"
    },
    "papermill": {
     "duration": 0.051679,
     "end_time": "2022-05-15T19:33:19.398951",
     "exception": false,
     "start_time": "2022-05-15T19:33:19.347272",
     "status": "completed"
    },
    "tags": []
   },
   "outputs": [],
   "source": [
    "#rename prediction column as target\n",
    "data= data.rename(columns={\"default payment next month\": \"target\"})"
   ]
  },
  {
   "cell_type": "code",
   "execution_count": 10,
   "id": "7c171577",
   "metadata": {
    "execution": {
     "iopub.execute_input": "2022-05-15T19:33:19.482434Z",
     "iopub.status.busy": "2022-05-15T19:33:19.481923Z",
     "iopub.status.idle": "2022-05-15T19:33:19.690583Z",
     "shell.execute_reply": "2022-05-15T19:33:19.689821Z"
    },
    "papermill": {
     "duration": 0.252426,
     "end_time": "2022-05-15T19:33:19.692692",
     "exception": false,
     "start_time": "2022-05-15T19:33:19.440266",
     "status": "completed"
    },
    "tags": []
   },
   "outputs": [
    {
     "data": {
      "image/png": "[encoded data removed]",
      "text/plain": [
       "<Figure size 432x432 with 1 Axes>"
      ]
     },
     "metadata": {
      "needs_background": "light"
     },
     "output_type": "display_data"
    }
   ],
   "source": [
    "# Percentage of people who have Deafulted and not Defaulted\n",
    "\n",
    "target_count = data.groupby('target').size().reset_index(name='counts')\n",
    "\n",
    "plt.figure(figsize=(6,6))\n",
    "plt.bar(target_count['target'], target_count.counts)\n",
    "plt.xticks([0,1], labels=[\"Not Deafaulted\", \"Defaulted\"])\n",
    "plt.title(\"Target Distribution\")\n",
    "\n",
    "total = len(data['target'])\n",
    "not_def = len(data[data['target']==0])/total *100\n",
    "yes_def = len(data[data['target']==1])/total *100\n",
    "\n",
    "plt.text(x=0, y=not_def,s=str(\"%.2f\"%not_def+'%'), fontsize=12, position=(0,len(data[data['target']==0])*1.006), horizontalalignment='center')\n",
    "plt.text(x=1, y=yes_def,s=str(\"%.2f\"%yes_def+'%'), fontsize=12, position=(1,len(data[data['target']==1])*1.02), horizontalalignment='center')\n",
    "\n",
    "plt.show()"
   ]
  },
  {
   "cell_type": "markdown",
   "id": "467032ef",
   "metadata": {
    "papermill": {
     "duration": 0.040358,
     "end_time": "2022-05-15T19:33:19.774113",
     "exception": false,
     "start_time": "2022-05-15T19:33:19.733755",
     "status": "completed"
    },
    "tags": []
   },
   "source": [
    "This is a unbalanced dataset"
   ]
  },
  {
   "cell_type": "code",
   "execution_count": 11,
   "id": "5260ea76",
   "metadata": {
    "execution": {
     "iopub.execute_input": "2022-05-15T19:33:19.857516Z",
     "iopub.status.busy": "2022-05-15T19:33:19.857214Z",
     "iopub.status.idle": "2022-05-15T19:33:20.086185Z",
     "shell.execute_reply": "2022-05-15T19:33:20.085313Z"
    },
    "papermill": {
     "duration": 0.273455,
     "end_time": "2022-05-15T19:33:20.088295",
     "exception": false,
     "start_time": "2022-05-15T19:33:19.814840",
     "status": "completed"
    },
    "tags": []
   },
   "outputs": [
    {
     "data": {
      "text/plain": [
       "<Figure size 432x432 with 0 Axes>"
      ]
     },
     "metadata": {},
     "output_type": "display_data"
    },
    {
     "data": {
      "image/png": "[encoded data removed]",
      "text/plain": [
       "<Figure size 432x288 with 1 Axes>"
      ]
     },
     "metadata": {
      "needs_background": "light"
     },
     "output_type": "display_data"
    }
   ],
   "source": [
    "data['Age_category'] = pd.cut(data.AGE, bins=[20,35,50,80])\n",
    "\n",
    "target_count = data.groupby(['Age_category','SEX']).AGE.count().unstack()\n",
    "\n",
    "# print(target_count)\n",
    "plt.figure(figsize=(6,6))\n",
    "target_count.plot(kind='bar', stacked=False)\n",
    "plt.xticks(rotation=0)\n",
    "plt.ylabel('Count')\n",
    "plt.legend(['Male', 'Female'])\n",
    "plt.title(\"Age and Sex counts\")\n",
    "plt.show()"
   ]
  },
  {
   "cell_type": "markdown",
   "id": "d6a22659",
   "metadata": {
    "papermill": {
     "duration": 0.042215,
     "end_time": "2022-05-15T19:33:20.176064",
     "exception": false,
     "start_time": "2022-05-15T19:33:20.133849",
     "status": "completed"
    },
    "tags": []
   },
   "source": [
    "In all age groups,female have high chance to get credit cards"
   ]
  },
  {
   "cell_type": "code",
   "execution_count": 12,
   "id": "b766d2f0",
   "metadata": {
    "execution": {
     "iopub.execute_input": "2022-05-15T19:33:20.262481Z",
     "iopub.status.busy": "2022-05-15T19:33:20.262184Z",
     "iopub.status.idle": "2022-05-15T19:33:20.477341Z",
     "shell.execute_reply": "2022-05-15T19:33:20.476351Z"
    },
    "papermill": {
     "duration": 0.26107,
     "end_time": "2022-05-15T19:33:20.479620",
     "exception": false,
     "start_time": "2022-05-15T19:33:20.218550",
     "status": "completed"
    },
    "tags": []
   },
   "outputs": [
    {
     "data": {
      "text/plain": [
       "<Figure size 432x432 with 0 Axes>"
      ]
     },
     "metadata": {},
     "output_type": "display_data"
    },
    {
     "data": {
      "image/png": "[encoded data removed]",
      "text/plain": [
       "<Figure size 432x288 with 1 Axes>"
      ]
     },
     "metadata": {
      "needs_background": "light"
     },
     "output_type": "display_data"
    }
   ],
   "source": [
    "target_count = data.groupby(['Age_category','target']).AGE.count().unstack()\n",
    "\n",
    "# print(target_count)\n",
    "plt.figure(figsize=(6,6))\n",
    "target_count.plot(kind='bar', stacked=True)\n",
    "plt.xticks(rotation=0)\n",
    "plt.ylabel('Count')\n",
    "plt.legend(['Not defaulted', 'Defaulted'])\n",
    "plt.title(\"Age and People deafulted counts\")\n",
    "plt.show()"
   ]
  },
  {
   "cell_type": "markdown",
   "id": "abbcb80b",
   "metadata": {
    "papermill": {
     "duration": 0.044292,
     "end_time": "2022-05-15T19:33:20.568651",
     "exception": false,
     "start_time": "2022-05-15T19:33:20.524359",
     "status": "completed"
    },
    "tags": []
   },
   "source": [
    "most of the people,below 50 have high chance to get defaulted"
   ]
  },
  {
   "cell_type": "code",
   "execution_count": 13,
   "id": "16a89f01",
   "metadata": {
    "execution": {
     "iopub.execute_input": "2022-05-15T19:33:20.662444Z",
     "iopub.status.busy": "2022-05-15T19:33:20.661844Z",
     "iopub.status.idle": "2022-05-15T19:33:20.862207Z",
     "shell.execute_reply": "2022-05-15T19:33:20.861659Z"
    },
    "papermill": {
     "duration": 0.248594,
     "end_time": "2022-05-15T19:33:20.863989",
     "exception": false,
     "start_time": "2022-05-15T19:33:20.615395",
     "status": "completed"
    },
    "tags": []
   },
   "outputs": [
    {
     "data": {
      "text/plain": [
       "<Figure size 432x432 with 0 Axes>"
      ]
     },
     "metadata": {},
     "output_type": "display_data"
    },
    {
     "data": {
      "image/png": "[encoded data removed]",
      "text/plain": [
       "<Figure size 432x288 with 1 Axes>"
      ]
     },
     "metadata": {
      "needs_background": "light"
     },
     "output_type": "display_data"
    }
   ],
   "source": [
    "target_count = data.groupby(['SEX','target']).SEX.count().unstack()\n",
    "\n",
    "# print(target_count)\n",
    "plt.figure(figsize=(6,6))\n",
    "target_count.plot(kind='bar', stacked=False)\n",
    "plt.xticks([0,1],labels=['Male','Female'],rotation=0)\n",
    "plt.ylabel('Count')\n",
    "plt.legend(['Not defaulted', 'Defaulted'])\n",
    "plt.title(\"Sex and People deafulted counts\")\n",
    "plt.show()"
   ]
  },
  {
   "cell_type": "code",
   "execution_count": 14,
   "id": "a915b5a4",
   "metadata": {
    "execution": {
     "iopub.execute_input": "2022-05-15T19:33:20.957714Z",
     "iopub.status.busy": "2022-05-15T19:33:20.957239Z",
     "iopub.status.idle": "2022-05-15T19:33:21.439065Z",
     "shell.execute_reply": "2022-05-15T19:33:21.438491Z"
    },
    "papermill": {
     "duration": 0.530684,
     "end_time": "2022-05-15T19:33:21.441028",
     "exception": false,
     "start_time": "2022-05-15T19:33:20.910344",
     "status": "completed"
    },
    "tags": []
   },
   "outputs": [
    {
     "name": "stderr",
     "output_type": "stream",
     "text": [
      "/opt/conda/lib/python3.7/site-packages/seaborn/distributions.py:2619: FutureWarning: `distplot` is a deprecated function and will be removed in a future version. Please adapt your code to use either `displot` (a figure-level function with similar flexibility) or `histplot` (an axes-level function for histograms).\n",
      "  warnings.warn(msg, FutureWarning)\n"
     ]
    },
    {
     "data": {
      "image/png": "[encoded data removed]",
      "text/plain": [
       "<Figure size 720x360 with 1 Axes>"
      ]
     },
     "metadata": {
      "needs_background": "light"
     },
     "output_type": "display_data"
    }
   ],
   "source": [
    "plt.subplots(figsize=(10,5))\n",
    "# plt.subplot(121)\n",
    "sns.distplot(data.LIMIT_BAL)\n",
    "plt.show()"
   ]
  },
  {
   "cell_type": "code",
   "execution_count": 15,
   "id": "22aa5f65",
   "metadata": {
    "execution": {
     "iopub.execute_input": "2022-05-15T19:33:21.578363Z",
     "iopub.status.busy": "2022-05-15T19:33:21.577721Z",
     "iopub.status.idle": "2022-05-15T19:33:22.612905Z",
     "shell.execute_reply": "2022-05-15T19:33:22.612009Z"
    },
    "papermill": {
     "duration": 1.112459,
     "end_time": "2022-05-15T19:33:22.615839",
     "exception": false,
     "start_time": "2022-05-15T19:33:21.503380",
     "status": "completed"
    },
    "tags": []
   },
   "outputs": [
    {
     "data": {
      "image/png": "[encoded data removed]",
      "text/plain": [
       "<Figure size 1440x720 with 6 Axes>"
      ]
     },
     "metadata": {
      "needs_background": "light"
     },
     "output_type": "display_data"
    }
   ],
   "source": [
    "plt.subplots(figsize=(20,10))\n",
    "plt.subplot(231)\n",
    "plt.scatter(x=data.PAY_AMT1, y=data.BILL_AMT1, c='r', s=1)\n",
    "plt.xlabel('PAY_AMT1')\n",
    "plt.ylabel('BILL_AMT1')\n",
    "\n",
    "plt.subplot(232)\n",
    "plt.scatter(x=data.PAY_AMT2, y=data.BILL_AMT2, c='g', s=1)\n",
    "plt.xlabel('PAY_AMT2')\n",
    "plt.ylabel('BILL_AMT2')\n",
    "plt.title('Payment structure vs Bill amount in the last 6 months', fontsize=15)\n",
    "\n",
    "plt.subplot(233)\n",
    "plt.scatter(x=data.PAY_AMT3, y=data.BILL_AMT3, c='b', s=1)\n",
    "plt.xlabel('PAY_AMT3')\n",
    "plt.ylabel('BILL_AMT3')\n",
    "\n",
    "plt.subplot(234)\n",
    "plt.scatter(x=data.PAY_AMT4, y=data.BILL_AMT4, c='y', s=1)\n",
    "plt.xlabel('PAY_AMT4')\n",
    "plt.ylabel('BILL_AMT4')\n",
    "\n",
    "plt.subplot(235)\n",
    "plt.scatter(x=data.PAY_AMT5, y=data.BILL_AMT5, c='black', s=1)\n",
    "plt.xlabel('PAY_AMT5')\n",
    "plt.ylabel('BILL_AMT5')\n",
    "\n",
    "plt.subplot(236)\n",
    "plt.scatter(x=data.PAY_AMT6, y=data.BILL_AMT6, c='m', s=1)\n",
    "plt.xlabel('PAY_AMT6')\n",
    "plt.ylabel('BILL_AMT6')\n",
    "\n",
    "\n",
    "plt.show()"
   ]
  },
  {
   "cell_type": "markdown",
   "id": "1327123a",
   "metadata": {
    "papermill": {
     "duration": 0.049002,
     "end_time": "2022-05-15T19:33:22.714879",
     "exception": false,
     "start_time": "2022-05-15T19:33:22.665877",
     "status": "completed"
    },
    "tags": []
   },
   "source": [
    "Feature Engineering"
   ]
  },
  {
   "cell_type": "code",
   "execution_count": 16,
   "id": "8b57a1c8",
   "metadata": {
    "execution": {
     "iopub.execute_input": "2022-05-15T19:33:22.815404Z",
     "iopub.status.busy": "2022-05-15T19:33:22.814787Z",
     "iopub.status.idle": "2022-05-15T19:33:22.820025Z",
     "shell.execute_reply": "2022-05-15T19:33:22.819152Z"
    },
    "papermill": {
     "duration": 0.057598,
     "end_time": "2022-05-15T19:33:22.821824",
     "exception": false,
     "start_time": "2022-05-15T19:33:22.764226",
     "status": "completed"
    },
    "tags": []
   },
   "outputs": [],
   "source": [
    "def f(x):\n",
    "    if (x == -2):\n",
    "        return -2\n",
    "    elif (x == -1):\n",
    "        return -1\n",
    "    elif (x == 0):\n",
    "        return 0\n",
    "    else:\n",
    "        return 1"
   ]
  },
  {
   "cell_type": "code",
   "execution_count": 17,
   "id": "9e862b5a",
   "metadata": {
    "execution": {
     "iopub.execute_input": "2022-05-15T19:33:22.921611Z",
     "iopub.status.busy": "2022-05-15T19:33:22.921069Z",
     "iopub.status.idle": "2022-05-15T19:33:23.039145Z",
     "shell.execute_reply": "2022-05-15T19:33:23.038519Z"
    },
    "papermill": {
     "duration": 0.170412,
     "end_time": "2022-05-15T19:33:23.041322",
     "exception": false,
     "start_time": "2022-05-15T19:33:22.870910",
     "status": "completed"
    },
    "tags": []
   },
   "outputs": [],
   "source": [
    "data['PAY_0'] = data['PAY_0'].apply(f)\n",
    "data['PAY_2'] = data['PAY_2'].apply(f)\n",
    "data['PAY_3'] = data['PAY_3'].apply(f)\n",
    "data['PAY_4'] = data['PAY_4'].apply(f)\n",
    "data['PAY_5'] = data['PAY_5'].apply(f)\n",
    "data['PAY_6'] = data['PAY_6'].apply(f)"
   ]
  },
  {
   "cell_type": "code",
   "execution_count": 18,
   "id": "f30515df",
   "metadata": {
    "execution": {
     "iopub.execute_input": "2022-05-15T19:33:23.144458Z",
     "iopub.status.busy": "2022-05-15T19:33:23.143898Z",
     "iopub.status.idle": "2022-05-15T19:33:23.162347Z",
     "shell.execute_reply": "2022-05-15T19:33:23.161777Z"
    },
    "papermill": {
     "duration": 0.073276,
     "end_time": "2022-05-15T19:33:23.164103",
     "exception": false,
     "start_time": "2022-05-15T19:33:23.090827",
     "status": "completed"
    },
    "tags": []
   },
   "outputs": [
    {
     "data": {
      "text/html": [
       "<div>\n",
       "<style scoped>\n",
       "    .dataframe tbody tr th:only-of-type {\n",
       "        vertical-align: middle;\n",
       "    }\n",
       "\n",
       "    .dataframe tbody tr th {\n",
       "        vertical-align: top;\n",
       "    }\n",
       "\n",
       "    .dataframe thead th {\n",
       "        text-align: right;\n",
       "    }\n",
       "</style>\n",
       "<table border=\"1\" class=\"dataframe\">\n",
       "  <thead>\n",
       "    <tr style=\"text-align: right;\">\n",
       "      <th></th>\n",
       "      <th>LIMIT_BAL</th>\n",
       "      <th>SEX</th>\n",
       "      <th>EDUCATION</th>\n",
       "      <th>MARRIAGE</th>\n",
       "      <th>AGE</th>\n",
       "      <th>PAY_0</th>\n",
       "      <th>PAY_2</th>\n",
       "      <th>PAY_3</th>\n",
       "      <th>PAY_4</th>\n",
       "      <th>PAY_5</th>\n",
       "      <th>...</th>\n",
       "      <th>BILL_AMT5</th>\n",
       "      <th>BILL_AMT6</th>\n",
       "      <th>PAY_AMT1</th>\n",
       "      <th>PAY_AMT2</th>\n",
       "      <th>PAY_AMT3</th>\n",
       "      <th>PAY_AMT4</th>\n",
       "      <th>PAY_AMT5</th>\n",
       "      <th>PAY_AMT6</th>\n",
       "      <th>target</th>\n",
       "      <th>Age_category</th>\n",
       "    </tr>\n",
       "  </thead>\n",
       "  <tbody>\n",
       "    <tr>\n",
       "      <th>0</th>\n",
       "      <td>20000</td>\n",
       "      <td>2</td>\n",
       "      <td>2</td>\n",
       "      <td>1</td>\n",
       "      <td>24</td>\n",
       "      <td>1</td>\n",
       "      <td>1</td>\n",
       "      <td>-1</td>\n",
       "      <td>-1</td>\n",
       "      <td>-2</td>\n",
       "      <td>...</td>\n",
       "      <td>0</td>\n",
       "      <td>0</td>\n",
       "      <td>0</td>\n",
       "      <td>689</td>\n",
       "      <td>0</td>\n",
       "      <td>0</td>\n",
       "      <td>0</td>\n",
       "      <td>0</td>\n",
       "      <td>1</td>\n",
       "      <td>(20, 35]</td>\n",
       "    </tr>\n",
       "    <tr>\n",
       "      <th>1</th>\n",
       "      <td>120000</td>\n",
       "      <td>2</td>\n",
       "      <td>2</td>\n",
       "      <td>2</td>\n",
       "      <td>26</td>\n",
       "      <td>-1</td>\n",
       "      <td>1</td>\n",
       "      <td>0</td>\n",
       "      <td>0</td>\n",
       "      <td>0</td>\n",
       "      <td>...</td>\n",
       "      <td>3455</td>\n",
       "      <td>3261</td>\n",
       "      <td>0</td>\n",
       "      <td>1000</td>\n",
       "      <td>1000</td>\n",
       "      <td>1000</td>\n",
       "      <td>0</td>\n",
       "      <td>2000</td>\n",
       "      <td>1</td>\n",
       "      <td>(20, 35]</td>\n",
       "    </tr>\n",
       "    <tr>\n",
       "      <th>2</th>\n",
       "      <td>90000</td>\n",
       "      <td>2</td>\n",
       "      <td>2</td>\n",
       "      <td>2</td>\n",
       "      <td>34</td>\n",
       "      <td>0</td>\n",
       "      <td>0</td>\n",
       "      <td>0</td>\n",
       "      <td>0</td>\n",
       "      <td>0</td>\n",
       "      <td>...</td>\n",
       "      <td>14948</td>\n",
       "      <td>15549</td>\n",
       "      <td>1518</td>\n",
       "      <td>1500</td>\n",
       "      <td>1000</td>\n",
       "      <td>1000</td>\n",
       "      <td>1000</td>\n",
       "      <td>5000</td>\n",
       "      <td>0</td>\n",
       "      <td>(20, 35]</td>\n",
       "    </tr>\n",
       "    <tr>\n",
       "      <th>3</th>\n",
       "      <td>50000</td>\n",
       "      <td>2</td>\n",
       "      <td>2</td>\n",
       "      <td>1</td>\n",
       "      <td>37</td>\n",
       "      <td>0</td>\n",
       "      <td>0</td>\n",
       "      <td>0</td>\n",
       "      <td>0</td>\n",
       "      <td>0</td>\n",
       "      <td>...</td>\n",
       "      <td>28959</td>\n",
       "      <td>29547</td>\n",
       "      <td>2000</td>\n",
       "      <td>2019</td>\n",
       "      <td>1200</td>\n",
       "      <td>1100</td>\n",
       "      <td>1069</td>\n",
       "      <td>1000</td>\n",
       "      <td>0</td>\n",
       "      <td>(35, 50]</td>\n",
       "    </tr>\n",
       "    <tr>\n",
       "      <th>4</th>\n",
       "      <td>50000</td>\n",
       "      <td>1</td>\n",
       "      <td>2</td>\n",
       "      <td>1</td>\n",
       "      <td>57</td>\n",
       "      <td>-1</td>\n",
       "      <td>0</td>\n",
       "      <td>-1</td>\n",
       "      <td>0</td>\n",
       "      <td>0</td>\n",
       "      <td>...</td>\n",
       "      <td>19146</td>\n",
       "      <td>19131</td>\n",
       "      <td>2000</td>\n",
       "      <td>36681</td>\n",
       "      <td>10000</td>\n",
       "      <td>9000</td>\n",
       "      <td>689</td>\n",
       "      <td>679</td>\n",
       "      <td>0</td>\n",
       "      <td>(50, 80]</td>\n",
       "    </tr>\n",
       "  </tbody>\n",
       "</table>\n",
       "<p>5 rows × 25 columns</p>\n",
       "</div>"
      ],
      "text/plain": [
       "   LIMIT_BAL  SEX  EDUCATION  MARRIAGE  AGE  PAY_0  PAY_2  PAY_3  PAY_4  \\\n",
       "0      20000    2          2         1   24      1      1     -1     -1   \n",
       "1     120000    2          2         2   26     -1      1      0      0   \n",
       "2      90000    2          2         2   34      0      0      0      0   \n",
       "3      50000    2          2         1   37      0      0      0      0   \n",
       "4      50000    1          2         1   57     -1      0     -1      0   \n",
       "\n",
       "   PAY_5  ...  BILL_AMT5  BILL_AMT6  PAY_AMT1  PAY_AMT2  PAY_AMT3  PAY_AMT4  \\\n",
       "0     -2  ...          0          0         0       689         0         0   \n",
       "1      0  ...       3455       3261         0      1000      1000      1000   \n",
       "2      0  ...      14948      15549      1518      1500      1000      1000   \n",
       "3      0  ...      28959      29547      2000      2019      1200      1100   \n",
       "4      0  ...      19146      19131      2000     36681     10000      9000   \n",
       "\n",
       "   PAY_AMT5  PAY_AMT6  target  Age_category  \n",
       "0         0         0       1      (20, 35]  \n",
       "1         0      2000       1      (20, 35]  \n",
       "2      1000      5000       0      (20, 35]  \n",
       "3      1069      1000       0      (35, 50]  \n",
       "4       689       679       0      (50, 80]  \n",
       "\n",
       "[5 rows x 25 columns]"
      ]
     },
     "execution_count": 18,
     "metadata": {},
     "output_type": "execute_result"
    }
   ],
   "source": [
    "data.head()"
   ]
  },
  {
   "cell_type": "code",
   "execution_count": 19,
   "id": "4f40e123",
   "metadata": {
    "execution": {
     "iopub.execute_input": "2022-05-15T19:33:23.265878Z",
     "iopub.status.busy": "2022-05-15T19:33:23.265316Z",
     "iopub.status.idle": "2022-05-15T19:33:23.272865Z",
     "shell.execute_reply": "2022-05-15T19:33:23.272094Z"
    },
    "papermill": {
     "duration": 0.060565,
     "end_time": "2022-05-15T19:33:23.274662",
     "exception": false,
     "start_time": "2022-05-15T19:33:23.214097",
     "status": "completed"
    },
    "tags": []
   },
   "outputs": [],
   "source": [
    "#x=train\n",
    "x = data.drop(['target','Age_category'], axis = 1)\n",
    "y = data['target']"
   ]
  },
  {
   "cell_type": "code",
   "execution_count": 20,
   "id": "aac060b6",
   "metadata": {
    "execution": {
     "iopub.execute_input": "2022-05-15T19:33:23.376852Z",
     "iopub.status.busy": "2022-05-15T19:33:23.376240Z",
     "iopub.status.idle": "2022-05-15T19:33:23.390699Z",
     "shell.execute_reply": "2022-05-15T19:33:23.389986Z"
    },
    "papermill": {
     "duration": 0.068158,
     "end_time": "2022-05-15T19:33:23.392825",
     "exception": false,
     "start_time": "2022-05-15T19:33:23.324667",
     "status": "completed"
    },
    "tags": []
   },
   "outputs": [],
   "source": [
    "X_train, X_test, y_train, y_test = train_test_split(x, y, test_size=0.2,random_state=0)"
   ]
  },
  {
   "cell_type": "code",
   "execution_count": 21,
   "id": "5b972ff8",
   "metadata": {
    "execution": {
     "iopub.execute_input": "2022-05-15T19:33:23.494946Z",
     "iopub.status.busy": "2022-05-15T19:33:23.494406Z",
     "iopub.status.idle": "2022-05-15T19:33:23.738124Z",
     "shell.execute_reply": "2022-05-15T19:33:23.737193Z"
    },
    "papermill": {
     "duration": 0.297614,
     "end_time": "2022-05-15T19:33:23.740464",
     "exception": false,
     "start_time": "2022-05-15T19:33:23.442850",
     "status": "completed"
    },
    "tags": []
   },
   "outputs": [],
   "source": [
    "from sklearn.ensemble import RandomForestClassifier, AdaBoostClassifier, GradientBoostingClassifier, ExtraTreesClassifier, VotingClassifier\n",
    "from sklearn.discriminant_analysis import LinearDiscriminantAnalysis\n",
    "from sklearn.linear_model import LogisticRegression\n",
    "from sklearn.neighbors import KNeighborsClassifier\n",
    "from sklearn.tree import DecisionTreeClassifier\n",
    "from sklearn.svm import SVC\n",
    "from sklearn.model_selection import GridSearchCV, cross_val_score, StratifiedKFold, learning_curve"
   ]
  },
  {
   "cell_type": "code",
   "execution_count": 22,
   "id": "a6ede44a",
   "metadata": {
    "execution": {
     "iopub.execute_input": "2022-05-15T19:33:23.842472Z",
     "iopub.status.busy": "2022-05-15T19:33:23.842095Z",
     "iopub.status.idle": "2022-05-15T19:33:23.944209Z",
     "shell.execute_reply": "2022-05-15T19:33:23.943328Z"
    },
    "papermill": {
     "duration": 0.15586,
     "end_time": "2022-05-15T19:33:23.946477",
     "exception": false,
     "start_time": "2022-05-15T19:33:23.790617",
     "status": "completed"
    },
    "tags": []
   },
   "outputs": [],
   "source": [
    "from xgboost import XGBClassifier\n",
    "#import tensorflow as tf\n",
    "from sklearn.model_selection import train_test_split, cross_val_predict\n",
    "from sklearn.decomposition import PCA\n",
    "from sklearn.preprocessing import LabelEncoder, MinMaxScaler\n",
    "from sklearn.metrics import confusion_matrix, precision_score, recall_score, f1_score\n",
    "import time"
   ]
  },
  {
   "cell_type": "code",
   "execution_count": 23,
   "id": "46f494c8",
   "metadata": {
    "execution": {
     "iopub.execute_input": "2022-05-15T19:33:24.050200Z",
     "iopub.status.busy": "2022-05-15T19:33:24.049698Z",
     "iopub.status.idle": "2022-05-15T19:33:27.304577Z",
     "shell.execute_reply": "2022-05-15T19:33:27.303934Z"
    },
    "papermill": {
     "duration": 3.309426,
     "end_time": "2022-05-15T19:33:27.306831",
     "exception": false,
     "start_time": "2022-05-15T19:33:23.997405",
     "status": "completed"
    },
    "tags": []
   },
   "outputs": [
    {
     "name": "stdout",
     "output_type": "stream",
     "text": [
      "XGBoost's prediction accuracy is: 81.22\n",
      "Time consumed for training: 3.234\n",
      "Time consumed for prediction: 0.01245 seconds\n"
     ]
    }
   ],
   "source": [
    "xgb = XGBClassifier(n_estimators=100)\n",
    "training_start = time.perf_counter()\n",
    "xgb.fit(X_train, y_train)\n",
    "training_end = time.perf_counter()\n",
    "prediction_start = time.perf_counter()\n",
    "preds = xgb.predict(X_test)\n",
    "prediction_end = time.perf_counter()\n",
    "acc_xgb = (preds == y_test).sum().astype(float) / len(preds)*100\n",
    "xgb_train_time = training_end-training_start\n",
    "xgb_prediction_time = prediction_end-prediction_start\n",
    "print(\"XGBoost's prediction accuracy is: %3.2f\" % (acc_xgb))\n",
    "print(\"Time consumed for training: %4.3f\" % (xgb_train_time))\n",
    "print(\"Time consumed for prediction: %6.5f seconds\" % (xgb_prediction_time))"
   ]
  },
  {
   "cell_type": "code",
   "execution_count": 24,
   "id": "f05073da",
   "metadata": {
    "execution": {
     "iopub.execute_input": "2022-05-15T19:33:27.410521Z",
     "iopub.status.busy": "2022-05-15T19:33:27.410241Z",
     "iopub.status.idle": "2022-05-15T19:33:27.893380Z",
     "shell.execute_reply": "2022-05-15T19:33:27.892347Z"
    },
    "papermill": {
     "duration": 0.536535,
     "end_time": "2022-05-15T19:33:27.895446",
     "exception": false,
     "start_time": "2022-05-15T19:33:27.358911",
     "status": "completed"
    },
    "tags": []
   },
   "outputs": [
    {
     "name": "stdout",
     "output_type": "stream",
     "text": [
      "Training Accuracy : 0.884125\n",
      "Testing Accuracy : 0.8121666666666667\n",
      "              precision    recall  f1-score   support\n",
      "\n",
      "           0       0.84      0.94      0.89      4703\n",
      "           1       0.61      0.36      0.46      1297\n",
      "\n",
      "    accuracy                           0.81      6000\n",
      "   macro avg       0.73      0.65      0.67      6000\n",
      "weighted avg       0.79      0.81      0.79      6000\n",
      "\n"
     ]
    },
    {
     "data": {
      "image/png": "[encoded data removed]",
      "text/plain": [
       "<Figure size 432x432 with 2 Axes>"
      ]
     },
     "metadata": {
      "needs_background": "light"
     },
     "output_type": "display_data"
    }
   ],
   "source": [
    "y_pred =xgb.predict(X_test)\n",
    "from sklearn.metrics import confusion_matrix\n",
    "from sklearn.metrics import classification_report\n",
    "\n",
    "# evaluating the model\n",
    "print(\"Training Accuracy :\", xgb.score(X_train, y_train))\n",
    "print(\"Testing Accuracy :\",xgb.score(X_test, y_test))\n",
    "\n",
    "# confusion matrix\n",
    "cm = confusion_matrix(y_test, y_pred)\n",
    "#print(cm)\n",
    "plt.rcParams['figure.figsize'] = (6, 6)\n",
    "sns.heatmap(cm ,annot = True)\n",
    "\n",
    "# classification report\n",
    "cr = classification_report(y_test, y_pred)\n",
    "print(cr)"
   ]
  },
  {
   "cell_type": "markdown",
   "id": "110fc43d",
   "metadata": {
    "papermill": {
     "duration": 0.052712,
     "end_time": "2022-05-15T19:33:28.002276",
     "exception": false,
     "start_time": "2022-05-15T19:33:27.949564",
     "status": "completed"
    },
    "tags": []
   },
   "source": [
    "Recall is very low"
   ]
  },
  {
   "cell_type": "code",
   "execution_count": 25,
   "id": "411d493d",
   "metadata": {
    "execution": {
     "iopub.execute_input": "2022-05-15T19:33:28.109138Z",
     "iopub.status.busy": "2022-05-15T19:33:28.108413Z",
     "iopub.status.idle": "2022-05-15T19:33:28.495402Z",
     "shell.execute_reply": "2022-05-15T19:33:28.494504Z"
    },
    "papermill": {
     "duration": 0.442942,
     "end_time": "2022-05-15T19:33:28.497466",
     "exception": false,
     "start_time": "2022-05-15T19:33:28.054524",
     "status": "completed"
    },
    "tags": []
   },
   "outputs": [
    {
     "data": {
      "image/png": "[encoded data removed]",
      "text/plain": [
       "<Figure size 432x432 with 1 Axes>"
      ]
     },
     "metadata": {
      "needs_background": "light"
     },
     "output_type": "display_data"
    }
   ],
   "source": [
    "#feature importance with xgboost\n",
    "from xgboost import plot_importance\n",
    "from matplotlib import pyplot\n",
    "plot_importance(xgb)\n",
    "pyplot.show()"
   ]
  },
  {
   "cell_type": "markdown",
   "id": "5a68b22e",
   "metadata": {
    "papermill": {
     "duration": 0.053909,
     "end_time": "2022-05-15T19:33:28.604891",
     "exception": false,
     "start_time": "2022-05-15T19:33:28.550982",
     "status": "completed"
    },
    "tags": []
   },
   "source": [
    "Sampling method"
   ]
  },
  {
   "cell_type": "code",
   "execution_count": 26,
   "id": "57f1c9d8",
   "metadata": {
    "execution": {
     "iopub.execute_input": "2022-05-15T19:33:28.714509Z",
     "iopub.status.busy": "2022-05-15T19:33:28.713936Z",
     "iopub.status.idle": "2022-05-15T19:33:35.041395Z",
     "shell.execute_reply": "2022-05-15T19:33:35.040339Z"
    },
    "papermill": {
     "duration": 6.385224,
     "end_time": "2022-05-15T19:33:35.044050",
     "exception": false,
     "start_time": "2022-05-15T19:33:28.658826",
     "status": "completed"
    },
    "tags": []
   },
   "outputs": [
    {
     "name": "stdout",
     "output_type": "stream",
     "text": [
      "Dataset after resampling:\n",
      "[(0, 18661), (1, 18661)]\n"
     ]
    }
   ],
   "source": [
    "#one to one resampling\n",
    "#from imblearn.over_sampling import SMOTE\n",
    "from imblearn.over_sampling import SMOTENC\n",
    "from collections import Counter\n",
    "\n",
    "sm = SMOTENC(random_state=0,categorical_features=[1,2,3,5,6,7,8,9,10])\n",
    "#sm=SMOTE(random_state=0)\n",
    "X_resampled, y_resampled =sm.fit_resample(X_train,y_train)\n",
    "print('Dataset after resampling:')\n",
    "print(sorted(Counter(y_resampled).items()))"
   ]
  },
  {
   "cell_type": "code",
   "execution_count": 27,
   "id": "ce00a530",
   "metadata": {
    "execution": {
     "iopub.execute_input": "2022-05-15T19:33:35.164808Z",
     "iopub.status.busy": "2022-05-15T19:33:35.164268Z",
     "iopub.status.idle": "2022-05-15T19:33:35.170994Z",
     "shell.execute_reply": "2022-05-15T19:33:35.169669Z"
    },
    "papermill": {
     "duration": 0.073749,
     "end_time": "2022-05-15T19:33:35.173500",
     "exception": false,
     "start_time": "2022-05-15T19:33:35.099751",
     "status": "completed"
    },
    "tags": []
   },
   "outputs": [
    {
     "name": "stdout",
     "output_type": "stream",
     "text": [
      "Shape of x: (37322, 23)\n",
      "Shape of y: (37322,)\n"
     ]
    }
   ],
   "source": [
    "print(\"Shape of x:\",X_resampled.shape)\n",
    "print(\"Shape of y:\", y_resampled.shape)"
   ]
  },
  {
   "cell_type": "code",
   "execution_count": 28,
   "id": "0e62e885",
   "metadata": {
    "execution": {
     "iopub.execute_input": "2022-05-15T19:33:35.301929Z",
     "iopub.status.busy": "2022-05-15T19:33:35.300876Z",
     "iopub.status.idle": "2022-05-15T19:33:40.551948Z",
     "shell.execute_reply": "2022-05-15T19:33:40.550684Z"
    },
    "papermill": {
     "duration": 5.314456,
     "end_time": "2022-05-15T19:33:40.556278",
     "exception": false,
     "start_time": "2022-05-15T19:33:35.241822",
     "status": "completed"
    },
    "tags": []
   },
   "outputs": [
    {
     "name": "stdout",
     "output_type": "stream",
     "text": [
      "XGBoost's prediction accuracy is: 77.28\n",
      "Time consumed for training: 5.217\n",
      "Time consumed for prediction: 0.02063 seconds\n"
     ]
    }
   ],
   "source": [
    "xgb = XGBClassifier(n_estimators=100)\n",
    "training_start = time.perf_counter()\n",
    "xgb.fit(X_resampled, y_resampled)\n",
    "training_end = time.perf_counter()\n",
    "prediction_start = time.perf_counter()\n",
    "preds = xgb.predict(X_test)\n",
    "prediction_end = time.perf_counter()\n",
    "acc_xgb = (preds == y_test).sum().astype(float) / len(preds)*100\n",
    "xgb_train_time = training_end-training_start\n",
    "xgb_prediction_time = prediction_end-prediction_start\n",
    "print(\"XGBoost's prediction accuracy is: %3.2f\" % (acc_xgb))\n",
    "print(\"Time consumed for training: %4.3f\" % (xgb_train_time))\n",
    "print(\"Time consumed for prediction: %6.5f seconds\" % (xgb_prediction_time))"
   ]
  },
  {
   "cell_type": "code",
   "execution_count": 29,
   "id": "f8be3811",
   "metadata": {
    "execution": {
     "iopub.execute_input": "2022-05-15T19:33:40.694550Z",
     "iopub.status.busy": "2022-05-15T19:33:40.694259Z",
     "iopub.status.idle": "2022-05-15T19:33:40.967033Z",
     "shell.execute_reply": "2022-05-15T19:33:40.966186Z"
    },
    "papermill": {
     "duration": 0.340088,
     "end_time": "2022-05-15T19:33:40.969802",
     "exception": false,
     "start_time": "2022-05-15T19:33:40.629714",
     "status": "completed"
    },
    "tags": []
   },
   "outputs": [
    {
     "name": "stdout",
     "output_type": "stream",
     "text": [
      "Training Accuracy : 0.85975\n",
      "Testing Accuracy : 0.7728333333333334\n",
      "              precision    recall  f1-score   support\n",
      "\n",
      "           0       0.86      0.85      0.85      4703\n",
      "           1       0.47      0.48      0.48      1297\n",
      "\n",
      "    accuracy                           0.77      6000\n",
      "   macro avg       0.67      0.67      0.67      6000\n",
      "weighted avg       0.77      0.77      0.77      6000\n",
      "\n"
     ]
    },
    {
     "data": {
      "image/png": "[encoded data removed]",
      "text/plain": [
       "<Figure size 432x432 with 2 Axes>"
      ]
     },
     "metadata": {
      "needs_background": "light"
     },
     "output_type": "display_data"
    }
   ],
   "source": [
    "y_pred =xgb.predict(X_test)\n",
    "from sklearn.metrics import confusion_matrix\n",
    "from sklearn.metrics import classification_report\n",
    "\n",
    "# evaluating the model\n",
    "print(\"Training Accuracy :\", xgb.score(X_train, y_train))\n",
    "print(\"Testing Accuracy :\",xgb.score(X_test, y_test))\n",
    "\n",
    "# confusion matrix\n",
    "cm = confusion_matrix(y_test, y_pred)\n",
    "#print(cm)\n",
    "plt.rcParams['figure.figsize'] = (6, 6)\n",
    "sns.heatmap(cm ,annot = True)\n",
    "\n",
    "# classification report\n",
    "cr = classification_report(y_test, y_pred)\n",
    "print(cr)"
   ]
  },
  {
   "cell_type": "markdown",
   "id": "91c10853",
   "metadata": {},
   "source": [
    "improvement in recall values"
   ]
  },
  {
   "cell_type": "code",
   "execution_count": 30,
   "id": "60ba79d6",
   "metadata": {
    "execution": {
     "iopub.execute_input": "2022-05-15T19:33:41.116838Z",
     "iopub.status.busy": "2022-05-15T19:33:41.116209Z",
     "iopub.status.idle": "2022-05-15T19:33:41.456389Z",
     "shell.execute_reply": "2022-05-15T19:33:41.455263Z"
    },
    "papermill": {
     "duration": 0.411075,
     "end_time": "2022-05-15T19:33:41.458650",
     "exception": false,
     "start_time": "2022-05-15T19:33:41.047575",
     "status": "completed"
    },
    "tags": []
   },
   "outputs": [
    {
     "data": {
      "image/png": "[encoded data removed]",
      "text/plain": [
       "<Figure size 432x432 with 1 Axes>"
      ]
     },
     "metadata": {
      "needs_background": "light"
     },
     "output_type": "display_data"
    }
   ],
   "source": [
    "#feature importance with xgboost\n",
    "from xgboost import plot_importance\n",
    "from matplotlib import pyplot\n",
    "plot_importance(xgb)\n",
    "pyplot.show()"
   ]
  },
  {
   "cell_type": "code",
   "execution_count": 31,
   "id": "346a80aa",
   "metadata": {
    "execution": {
     "iopub.execute_input": "2022-05-15T19:33:41.593652Z",
     "iopub.status.busy": "2022-05-15T19:33:41.593116Z",
     "iopub.status.idle": "2022-05-15T19:33:41.616659Z",
     "shell.execute_reply": "2022-05-15T19:33:41.615319Z"
    },
    "papermill": {
     "duration": 0.093567,
     "end_time": "2022-05-15T19:33:41.618967",
     "exception": false,
     "start_time": "2022-05-15T19:33:41.525400",
     "status": "completed"
    },
    "tags": []
   },
   "outputs": [
    {
     "name": "stdout",
     "output_type": "stream",
     "text": [
      "[[0.354672   0.645328  ]\n",
      " [0.5692184  0.43078157]\n",
      " [0.43550962 0.5644904 ]\n",
      " ...\n",
      " [0.5622803  0.43771973]\n",
      " [0.12274379 0.8772562 ]\n",
      " [0.84397984 0.1560202 ]]\n"
     ]
    }
   ],
   "source": [
    "#predict probabilities\n",
    "print(xgb.predict_proba(X_test))"
   ]
  },
  {
   "cell_type": "code",
   "execution_count": null,
   "id": "595f84d5",
   "metadata": {
    "papermill": {
     "duration": 0.066441,
     "end_time": "2022-05-15T19:33:41.754620",
     "exception": false,
     "start_time": "2022-05-15T19:33:41.688179",
     "status": "completed"
    },
    "tags": []
   },
   "outputs": [],
   "source": []
  }
 ],
 "metadata": {
  "kernelspec": {
   "display_name": "Python 3",
   "language": "python",
   "name": "python3"
  },
  "language_info": {
   "codemirror_mode": {
    "name": "ipython",
    "version": 3
   },
   "file_extension": ".py",
   "mimetype": "text/x-python",
   "name": "python",
   "nbconvert_exporter": "python",
   "pygments_lexer": "ipython3",
   "version": "3.8.8"
  },
  "papermill": {
   "default_parameters": {},
   "duration": 50.061115,
   "end_time": "2022-05-15T19:33:42.649019",
   "environment_variables": {},
   "exception": null,
   "input_path": "__notebook__.ipynb",
   "output_path": "__notebook__.ipynb",
   "parameters": {},
   "start_time": "2022-05-15T19:32:52.587904",
   "version": "2.3.4"
  }
 },
 "nbformat": 4,
 "nbformat_minor": 5
}
